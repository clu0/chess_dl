{
 "cells": [
  {
   "cell_type": "code",
   "execution_count": 1,
   "metadata": {},
   "outputs": [],
   "source": [
    "import functools\n",
    "\n",
    "import torch\n",
    "from torch import nn\n",
    "import torch.nn.functional as F\n",
    "from torch.optim import lr_scheduler\n",
    "from torch.nn import init"
   ]
  },
  {
   "cell_type": "code",
   "execution_count": 15,
   "metadata": {},
   "outputs": [],
   "source": [
    "class ResBlock(nn.Module):\n",
    "    def __init__(self, c):\n",
    "        super(ResBlock, self).__init__()\n",
    "        res = [\n",
    "            nn.Conv2d(c, c, kernel_size=3, padding=1),\n",
    "            nn.BatchNorm2d(c),\n",
    "            nn.ReLU(True),\n",
    "            nn.Conv2d(c, c, kernel_size=3, padding=1),\n",
    "            nn.BatchNorm2d(c),\n",
    "        ]\n",
    "        self.res = nn.Sequential(*res)\n",
    "        self.relu = nn.ReLU(True)\n",
    "    def forward(self, x):\n",
    "        out = x + self.res(x)\n",
    "        out = self.relu(x)\n",
    "        return out"
   ]
  },
  {
   "cell_type": "code",
   "execution_count": 22,
   "metadata": {},
   "outputs": [],
   "source": [
    "class Net(nn.Module):\n",
    "    def __init__(self, in_c, n_c=256, depth=8, n_a=73, n_hidden=256, width=8):\n",
    "        super(Net, self).__init__()\n",
    "        model = [\n",
    "            nn.Conv2d(in_c, n_c, kernel_size=3, padding=1),\n",
    "            nn.BatchNorm2d(n_c),\n",
    "            nn.ReLU(True),\n",
    "        ]\n",
    "        for _ in range(depth):\n",
    "            model += [ResBlock(n_c)]\n",
    "        self.net = nn.Sequential(*model)\n",
    "        self.policy = nn.Sequential(\n",
    "            nn.Conv2d(n_c, n_a, kernel_size=1),\n",
    "            nn.ReLU(True)\n",
    "        )\n",
    "        self.value_conv = nn.Sequential(\n",
    "            nn.Conv2d(n_c, 1, kernel_size=1),\n",
    "            nn.BatchNorm2d(1),\n",
    "            nn.ReLU(True)\n",
    "        )\n",
    "        self.value = nn.Sequential(\n",
    "            nn.Linear(width**2, n_hidden),\n",
    "            nn.ReLU(True),\n",
    "            nn.Linear(n_hidden, 1),\n",
    "            nn.Tanh()\n",
    "        )\n",
    "        \n",
    "    def forward(self, x):\n",
    "        x = self.net(x)\n",
    "        p = self.policy(x)\n",
    "        v = self.value_conv(x)\n",
    "        v = self.value(v.view(v.size(0),-1))\n",
    "        return p, v\n",
    "            "
   ]
  },
  {
   "cell_type": "code",
   "execution_count": 23,
   "metadata": {},
   "outputs": [],
   "source": [
    "net = Net(10)"
   ]
  },
  {
   "cell_type": "code",
   "execution_count": 24,
   "metadata": {},
   "outputs": [],
   "source": [
    "board = torch.ones((1,10,8,8))\n",
    "p, v = net(board)"
   ]
  },
  {
   "cell_type": "code",
   "execution_count": 25,
   "metadata": {},
   "outputs": [
    {
     "data": {
      "text/plain": [
       "==========================================================================================\n",
       "Layer (type:depth-idx)                   Output Shape              Param #\n",
       "==========================================================================================\n",
       "Net                                      --                        --\n",
       "├─Sequential: 1-1                        [5, 256, 8, 8]            --\n",
       "│    └─Conv2d: 2-1                       [5, 256, 8, 8]            23,296\n",
       "│    └─BatchNorm2d: 2-2                  [5, 256, 8, 8]            512\n",
       "│    └─ReLU: 2-3                         [5, 256, 8, 8]            --\n",
       "│    └─ResBlock: 2-4                     [5, 256, 8, 8]            --\n",
       "│    │    └─Sequential: 3-1              [5, 256, 8, 8]            1,181,184\n",
       "│    │    └─ReLU: 3-2                    [5, 256, 8, 8]            --\n",
       "│    └─ResBlock: 2-5                     [5, 256, 8, 8]            --\n",
       "│    │    └─Sequential: 3-3              [5, 256, 8, 8]            1,181,184\n",
       "│    │    └─ReLU: 3-4                    [5, 256, 8, 8]            --\n",
       "│    └─ResBlock: 2-6                     [5, 256, 8, 8]            --\n",
       "│    │    └─Sequential: 3-5              [5, 256, 8, 8]            1,181,184\n",
       "│    │    └─ReLU: 3-6                    [5, 256, 8, 8]            --\n",
       "│    └─ResBlock: 2-7                     [5, 256, 8, 8]            --\n",
       "│    │    └─Sequential: 3-7              [5, 256, 8, 8]            1,181,184\n",
       "│    │    └─ReLU: 3-8                    [5, 256, 8, 8]            --\n",
       "│    └─ResBlock: 2-8                     [5, 256, 8, 8]            --\n",
       "│    │    └─Sequential: 3-9              [5, 256, 8, 8]            1,181,184\n",
       "│    │    └─ReLU: 3-10                   [5, 256, 8, 8]            --\n",
       "│    └─ResBlock: 2-9                     [5, 256, 8, 8]            --\n",
       "│    │    └─Sequential: 3-11             [5, 256, 8, 8]            1,181,184\n",
       "│    │    └─ReLU: 3-12                   [5, 256, 8, 8]            --\n",
       "│    └─ResBlock: 2-10                    [5, 256, 8, 8]            --\n",
       "│    │    └─Sequential: 3-13             [5, 256, 8, 8]            1,181,184\n",
       "│    │    └─ReLU: 3-14                   [5, 256, 8, 8]            --\n",
       "│    └─ResBlock: 2-11                    [5, 256, 8, 8]            --\n",
       "│    │    └─Sequential: 3-15             [5, 256, 8, 8]            1,181,184\n",
       "│    │    └─ReLU: 3-16                   [5, 256, 8, 8]            --\n",
       "├─Sequential: 1-2                        [5, 73, 8, 8]             --\n",
       "│    └─Conv2d: 2-12                      [5, 73, 8, 8]             18,761\n",
       "│    └─ReLU: 2-13                        [5, 73, 8, 8]             --\n",
       "├─Sequential: 1-3                        [5, 1, 8, 8]              --\n",
       "│    └─Conv2d: 2-14                      [5, 1, 8, 8]              257\n",
       "│    └─BatchNorm2d: 2-15                 [5, 1, 8, 8]              2\n",
       "│    └─ReLU: 2-16                        [5, 1, 8, 8]              --\n",
       "├─Sequential: 1-4                        [5, 1]                    --\n",
       "│    └─Linear: 2-17                      [5, 256]                  16,640\n",
       "│    └─ReLU: 2-18                        [5, 256]                  --\n",
       "│    └─Linear: 2-19                      [5, 1]                    257\n",
       "│    └─Tanh: 2-20                        [5, 1]                    --\n",
       "==========================================================================================\n",
       "Total params: 9,509,197\n",
       "Trainable params: 9,509,197\n",
       "Non-trainable params: 0\n",
       "Total mult-adds (G): 3.03\n",
       "==========================================================================================\n",
       "Input size (MB): 0.01\n",
       "Forward/backward pass size (MB): 22.48\n",
       "Params size (MB): 38.04\n",
       "Estimated Total Size (MB): 60.53\n",
       "=========================================================================================="
      ]
     },
     "execution_count": 25,
     "metadata": {},
     "output_type": "execute_result"
    }
   ],
   "source": [
    "from torchinfo import summary\n",
    "\n",
    "batch_size = 5 \n",
    "summary(net, input_data=[torch.ones(batch_size, 10, 8,8)])"
   ]
  },
  {
   "cell_type": "code",
   "execution_count": null,
   "metadata": {},
   "outputs": [],
   "source": []
  }
 ],
 "metadata": {
  "kernelspec": {
   "display_name": "Python 3",
   "language": "python",
   "name": "python3"
  },
  "language_info": {
   "codemirror_mode": {
    "name": "ipython",
    "version": 3
   },
   "file_extension": ".py",
   "mimetype": "text/x-python",
   "name": "python",
   "nbconvert_exporter": "python",
   "pygments_lexer": "ipython3",
   "version": "3.8.5"
  },
  "latex_envs": {
   "LaTeX_envs_menu_present": true,
   "autoclose": false,
   "autocomplete": true,
   "bibliofile": "biblio.bib",
   "cite_by": "apalike",
   "current_citInitial": 1,
   "eqLabelWithNumbers": true,
   "eqNumInitial": 1,
   "hotkeys": {
    "equation": "Ctrl-E",
    "itemize": "Ctrl-I"
   },
   "labels_anchors": false,
   "latex_user_defs": false,
   "report_style_numbering": false,
   "user_envs_cfg": false
  },
  "toc": {
   "base_numbering": 1,
   "nav_menu": {},
   "number_sections": true,
   "sideBar": true,
   "skip_h1_title": false,
   "title_cell": "Table of Contents",
   "title_sidebar": "Contents",
   "toc_cell": false,
   "toc_position": {},
   "toc_section_display": true,
   "toc_window_display": false
  },
  "varInspector": {
   "cols": {
    "lenName": 16,
    "lenType": 16,
    "lenVar": 40
   },
   "kernels_config": {
    "python": {
     "delete_cmd_postfix": "",
     "delete_cmd_prefix": "del ",
     "library": "var_list.py",
     "varRefreshCmd": "print(var_dic_list())"
    },
    "r": {
     "delete_cmd_postfix": ") ",
     "delete_cmd_prefix": "rm(",
     "library": "var_list.r",
     "varRefreshCmd": "cat(var_dic_list()) "
    }
   },
   "types_to_exclude": [
    "module",
    "function",
    "builtin_function_or_method",
    "instance",
    "_Feature"
   ],
   "window_display": false
  }
 },
 "nbformat": 4,
 "nbformat_minor": 4
}
