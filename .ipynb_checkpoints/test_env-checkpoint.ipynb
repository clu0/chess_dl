{
 "cells": [
  {
   "cell_type": "code",
   "execution_count": 127,
   "metadata": {},
   "outputs": [],
   "source": [
    "import torch\n",
    "import numpy as np\n",
    "import chess\n",
    "from env.env import *\n",
    "import sys\n",
    "import chess.svg as svg\n",
    "import svgutils.transform as sg\n",
    "import cairosvg\n",
    "from PIL import Image"
   ]
  },
  {
   "cell_type": "code",
   "execution_count": null,
   "metadata": {},
   "outputs": [],
   "source": [
    "# board = chess.Board(\"5n2/4P3/1k6/8/8/6K1/8/8 w - - 0 30\")"
   ]
  },
  {
   "cell_type": "code",
   "execution_count": null,
   "metadata": {},
   "outputs": [],
   "source": [
    "legalMvs = list(board.legal_moves)\n"
   ]
  },
  {
   "cell_type": "code",
   "execution_count": null,
   "metadata": {},
   "outputs": [],
   "source": [
    "m = toMask(legalMvs)"
   ]
  },
  {
   "cell_type": "code",
   "execution_count": null,
   "metadata": {},
   "outputs": [],
   "source": [
    "mvList = []\n",
    "for i in range(8):\n",
    "    for j in range(8):\n",
    "        for k in range(nMoves):\n",
    "            if m[i,j,k] == 1:\n",
    "                mv = toMove([i,j,k])\n",
    "                if mv:\n",
    "                    mvList.append(mv)"
   ]
  },
  {
   "cell_type": "code",
   "execution_count": null,
   "metadata": {},
   "outputs": [],
   "source": [
    "set(mvList) - set(legalMvs)"
   ]
  },
  {
   "cell_type": "code",
   "execution_count": null,
   "metadata": {},
   "outputs": [],
   "source": [
    "set(legalMvs) - set(mvList)"
   ]
  },
  {
   "cell_type": "code",
   "execution_count": null,
   "metadata": {},
   "outputs": [],
   "source": [
    "legalMvs"
   ]
  },
  {
   "cell_type": "code",
   "execution_count": null,
   "metadata": {},
   "outputs": [],
   "source": [
    "mvList"
   ]
  },
  {
   "cell_type": "code",
   "execution_count": 128,
   "metadata": {},
   "outputs": [],
   "source": [
    "# now we will try to actually make some players to play the game\n",
    "board = setupBoard()\n",
    "cboard = chess.Board()\n",
    "N = 8\n",
    "M = 14\n",
    "L = 7\n",
    "T = 8\n",
    "nMoves = 73"
   ]
  },
  {
   "cell_type": "code",
   "execution_count": 129,
   "metadata": {},
   "outputs": [],
   "source": [
    "history = torch.zeros([1, N, N, M+L])\n",
    "currentBoard = torch.zeros([N, N, M*T+L])\n",
    "history[0, ...] = board\n",
    "currentBoard[:, :, (M*(T-1)):] = board"
   ]
  },
  {
   "cell_type": "code",
   "execution_count": 130,
   "metadata": {},
   "outputs": [
    {
     "name": "stdout",
     "output_type": "stream",
     "text": [
      "state of the board representation:\n",
      "r n b q k b n r\n",
      "p p p p p p p p\n",
      ". . . . . . . .\n",
      ". . . . . . . .\n",
      ". . . . . . . .\n",
      ". . . . . . . .\n",
      "P P P P P P P P\n",
      "R N B Q K B N R\n"
     ]
    }
   ],
   "source": [
    "printBoard(board)"
   ]
  },
  {
   "cell_type": "code",
   "execution_count": 131,
   "metadata": {},
   "outputs": [
    {
     "name": "stdout",
     "output_type": "stream",
     "text": [
      "r n b q k b n r\n",
      "p p p p p p p p\n",
      ". . . . . . . .\n",
      ". . . . . . . .\n",
      ". . . . . . . .\n",
      ". . . . . . . .\n",
      "P P P P P P P P\n",
      "R N B Q K B N R\n"
     ]
    }
   ],
   "source": [
    "print(cboard)"
   ]
  },
  {
   "cell_type": "code",
   "execution_count": 132,
   "metadata": {},
   "outputs": [],
   "source": [
    "def makeMove(board, cboard):\n",
    "    legalMvs = list(cboard.legal_moves)\n",
    "    actionMask = toMask(legalMvs)\n",
    "\n",
    "    probs = (actionMask/actionMask.sum()).numpy()\n",
    "    a = np.random.choice(np.arange(probs.size), p=probs.ravel())\n",
    "    a = np.unravel_index(a, probs.shape)\n",
    "\n",
    "    pieceInds = board[a[0], a[1], :12]\n",
    "    if sum(pieceInds) > 1:\n",
    "        print(pieceInds)\n",
    "    pieceInd = torch.where(pieceInds == 1)[0].item()\n",
    "    piece = (pieceInd % 6) + 1\n",
    "    mv = toMove(np.array(a), piece)\n",
    "\n",
    "    cboard.push(mv)\n",
    "    toGd = sqToGd(mv.to_square)\n",
    "    board[a[0], a[1], :] = 0\n",
    "    board[toGd[0], toGd[1], :] = 0\n",
    "    board[toGd[0], toGd[1], pieceInd] = 1"
   ]
  },
  {
   "cell_type": "code",
   "execution_count": 133,
   "metadata": {},
   "outputs": [
    {
     "name": "stdout",
     "output_type": "stream",
     "text": [
      "made 40.0 moves\n",
      "made 80.0 moves\n",
      "made 120.0 moves\n",
      "made 160.0 moves\n",
      "made 200.0 moves\n",
      "made 240.0 moves\n"
     ]
    }
   ],
   "source": [
    "i = 0\n",
    "board_svg = chess.svg.board(cboard, size=300)\n",
    "cairosvg.svg2png(bytestring=board_svg, write_to=f'game/move_{i}.png')\n",
    "while True:\n",
    "    if cboard.is_game_over():\n",
    "        break\n",
    "    i += 5\n",
    "    makeMove(board, cboard)\n",
    "    board_svg = chess.svg.board(cboard, lastmove=cboard.peek(), size=300)\n",
    "    cairosvg.svg2png(bytestring=board_svg, write_to=f'game/move_{i}.png')\n",
    "    if i % 200 == 0:\n",
    "        print(f'made {i/5} moves')"
   ]
  },
  {
   "cell_type": "code",
   "execution_count": 153,
   "metadata": {},
   "outputs": [],
   "source": [
    "file_list = os.listdir(\"./game\")\n",
    "img_list = []\n",
    "for f in file_list:\n",
    "    if f.startswith('move'):\n",
    "        img_list.append(f'game/{f}')"
   ]
  },
  {
   "cell_type": "code",
   "execution_count": 154,
   "metadata": {},
   "outputs": [],
   "source": [
    "img_index = [int(im.split('_')[1].split('.')[0]) for im in img_list]"
   ]
  },
  {
   "cell_type": "code",
   "execution_count": 155,
   "metadata": {},
   "outputs": [],
   "source": [
    "sorted_ind = sorted(range(len(img_index)), key=img_index.__getitem__)"
   ]
  },
  {
   "cell_type": "code",
   "execution_count": 156,
   "metadata": {},
   "outputs": [],
   "source": [
    "img_list = [img_list[i] for i in sorted_ind]"
   ]
  },
  {
   "cell_type": "code",
   "execution_count": 158,
   "metadata": {},
   "outputs": [],
   "source": [
    "imgs = [Image.open(x) for x in img_list[-100:]]\n",
    "widths, heights = zip(*(i.size for i in imgs))\n",
    "\n",
    "total_height = sum(heights)\n",
    "new_im = Image.new('RGB', (widths[0], total_height))\n",
    "\n",
    "offset = 0\n",
    "for im in imgs:\n",
    "    new_im.paste(im, (0, offset))\n",
    "    offset += im.size[1]\n",
    "    \n",
    "new_im.save('game.png')"
   ]
  },
  {
   "cell_type": "code",
   "execution_count": 140,
   "metadata": {},
   "outputs": [
    {
     "data": {
      "text/plain": [
       "[]"
      ]
     },
     "execution_count": 140,
     "metadata": {},
     "output_type": "execute_result"
    }
   ],
   "source": [
    "imgs"
   ]
  },
  {
   "cell_type": "code",
   "execution_count": null,
   "metadata": {},
   "outputs": [],
   "source": []
  },
  {
   "cell_type": "code",
   "execution_count": null,
   "metadata": {},
   "outputs": [],
   "source": []
  },
  {
   "cell_type": "code",
   "execution_count": null,
   "metadata": {},
   "outputs": [],
   "source": []
  },
  {
   "cell_type": "code",
   "execution_count": null,
   "metadata": {},
   "outputs": [],
   "source": []
  },
  {
   "cell_type": "code",
   "execution_count": null,
   "metadata": {},
   "outputs": [],
   "source": [
    "board_fen = 'rnbqkbnr/pp1ppppp/8/2p5/4P3/5N2/PPPP1PPP/RNBQKB1R b KQkq - 1 2'\n",
    "board, col, castle, enp, fifty, nMv = board_fen.split(' ')\n",
    "rows = board.split('/')"
   ]
  },
  {
   "cell_type": "code",
   "execution_count": null,
   "metadata": {},
   "outputs": [],
   "source": [
    "col = 0 if col == 'w' else 1"
   ]
  },
  {
   "cell_type": "code",
   "execution_count": null,
   "metadata": {},
   "outputs": [],
   "source": [
    "def setupPos(board_fen):\n",
    "    b, color, castle, enp, fifty, nMv = board_fen.split(' ')\n",
    "    rows = b.split('/')\n",
    "    board = torch.zeros([N, N, M+L])\n",
    "    pieceDict = {'P':0, 'N':1, 'B':2, 'R':3, 'Q':4, 'K':5}\n",
    "    for i, row in enumerate(rows):\n",
    "        j = 0\n",
    "        for c in row:\n",
    "            if c.isdigit():\n",
    "                j += int(c)\n",
    "            else:\n",
    "                pieceInd = pieceDict[c] if c.isupper() else 6+pieceDict[c.upper()]\n",
    "                board[i, j, pieceInd] = 1\n",
    "                j += 1\n",
    "    return board"
   ]
  },
  {
   "cell_type": "code",
   "execution_count": null,
   "metadata": {},
   "outputs": [],
   "source": [
    "board = setupPos('5n2/4P3/1k6/8/8/6K1/8/8 b KQkq - 1 2')"
   ]
  },
  {
   "cell_type": "code",
   "execution_count": null,
   "metadata": {},
   "outputs": [],
   "source": [
    "printBoard(board)"
   ]
  },
  {
   "cell_type": "code",
   "execution_count": null,
   "metadata": {},
   "outputs": [],
   "source": []
  }
 ],
 "metadata": {
  "kernelspec": {
   "display_name": "Python 3",
   "language": "python",
   "name": "python3"
  },
  "language_info": {
   "codemirror_mode": {
    "name": "ipython",
    "version": 3
   },
   "file_extension": ".py",
   "mimetype": "text/x-python",
   "name": "python",
   "nbconvert_exporter": "python",
   "pygments_lexer": "ipython3",
   "version": "3.8.5"
  }
 },
 "nbformat": 4,
 "nbformat_minor": 4
}
